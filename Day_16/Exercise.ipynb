{
 "cells": [
  {
   "cell_type": "code",
   "execution_count": 1,
   "metadata": {},
   "outputs": [
    {
     "name": "stdout",
     "output_type": "stream",
     "text": [
      "['MAXYEAR', 'MINYEAR', '__builtins__', '__cached__', '__doc__', '__file__', '__loader__', '__name__', '__package__', '__spec__', 'date', 'datetime', 'datetime_CAPI', 'sys', 'time', 'timedelta', 'timezone', 'tzinfo']\n"
     ]
    }
   ],
   "source": [
    "import datetime\n",
    "print(dir(datetime))"
   ]
  },
  {
   "cell_type": "code",
   "execution_count": 2,
   "metadata": {},
   "outputs": [
    {
     "name": "stdout",
     "output_type": "stream",
     "text": [
      "2023-02-24 16:40:48.824770\n",
      "24 2 2023 16 40\n",
      "timestamp 1677253248.82477\n",
      "24/2/2023, 16:40\n"
     ]
    }
   ],
   "source": [
    "from datetime import datetime\n",
    "now = datetime.now()\n",
    "print(now)                      # 2021-07-08 07:34:46.549883\n",
    "day = now.day                   # 8\n",
    "month = now.month               # 7\n",
    "year = now.year                 # 2021\n",
    "hour = now.hour                 # 7\n",
    "minute = now.minute             # 38\n",
    "second = now.second\n",
    "timestamp = now.timestamp()\n",
    "print(day, month, year, hour, minute)\n",
    "print('timestamp', timestamp)\n",
    "print(f'{day}/{month}/{year}, {hour}:{minute}')  # 8/7/2021, 7:38"
   ]
  },
  {
   "cell_type": "code",
   "execution_count": 3,
   "metadata": {},
   "outputs": [
    {
     "name": "stdout",
     "output_type": "stream",
     "text": [
      "2020-01-01 00:00:00\n",
      "1 1 2020 0 0\n",
      "1/1/2020, 0:0\n"
     ]
    }
   ],
   "source": [
    "from datetime import datetime\n",
    "new_year = datetime(2020, 1, 1)\n",
    "print(new_year)      # 2020-01-01 00:00:00\n",
    "day = new_year.day\n",
    "month = new_year.month\n",
    "year = new_year.year\n",
    "hour = new_year.hour\n",
    "minute = new_year.minute\n",
    "second = new_year.second\n",
    "print(day, month, year, hour, minute) #1 1 2020 0 0\n",
    "print(f'{day}/{month}/{year}, {hour}:{minute}')  # 1/1/2020, 0:0\n"
   ]
  },
  {
   "cell_type": "code",
   "execution_count": 4,
   "metadata": {},
   "outputs": [
    {
     "name": "stdout",
     "output_type": "stream",
     "text": [
      "time: 16:43:39\n",
      "time one: 02/24/2023, 16:43:39\n",
      "time two: 24/02/2023, 16:43:39\n"
     ]
    }
   ],
   "source": [
    "from datetime import datetime\n",
    "# current date and time\n",
    "now = datetime.now()\n",
    "t = now.strftime(\"%H:%M:%S\")\n",
    "print(\"time:\", t)\n",
    "time_one = now.strftime(\"%m/%d/%Y, %H:%M:%S\")\n",
    "# mm/dd/YY H:M:S format\n",
    "print(\"time one:\", time_one)\n",
    "time_two = now.strftime(\"%d/%m/%Y, %H:%M:%S\")\n",
    "# dd/mm/YY H:M:S format\n",
    "print(\"time two:\", time_two)"
   ]
  },
  {
   "cell_type": "code",
   "execution_count": 26,
   "metadata": {},
   "outputs": [
    {
     "name": "stdout",
     "output_type": "stream",
     "text": [
      "2023-02-24 17:08:22.451706\n",
      "24\n",
      "22\n",
      "02/24/2023, 17:08:22\n"
     ]
    }
   ],
   "source": [
    "from datetime import datetime\n",
    "today = datetime.now()\n",
    "print(today)\n",
    "print(today.day)\n",
    "print(today.second)\n",
    "print(today.strftime(\"%m/%d/%Y, %H:%M:%S\"))"
   ]
  },
  {
   "cell_type": "code",
   "execution_count": 31,
   "metadata": {},
   "outputs": [
    {
     "name": "stdout",
     "output_type": "stream",
     "text": [
      "24-02-2023--05-08-22-08\n"
     ]
    }
   ],
   "source": [
    "## Day strftime args\n",
    "# Day == %A(Wednesday), %a(Wed), %w(0-6 => 0(sunday)), %d(0-31)\n",
    "# Month == %b(Feb),  %B(February), %m(0-12)\n",
    "# Year == %y(23), %Y(2023)\n",
    "# Hour == %H(24hours), %I(12hours)       ==> %p (Am/Pm)\n",
    "# Minute == %M\n",
    "# Seconds == %S\n",
    "# %W == Week no. of the year\n",
    "\n",
    "print(today.strftime('%d-%m-%Y--%I-%M-%S-%W'))"
   ]
  },
  {
   "cell_type": "code",
   "execution_count": 32,
   "metadata": {},
   "outputs": [
    {
     "name": "stdout",
     "output_type": "stream",
     "text": [
      "2020-01-01\n",
      "Current date: 2023-02-24\n",
      "Current year: 2023\n",
      "Current month: 2\n",
      "Current day: 24\n"
     ]
    }
   ],
   "source": [
    "from datetime import date\n",
    "d = date(2020, 1, 1)\n",
    "print(d)\n",
    "print('Current date:', d.today())    # 2019-12-05\n",
    "# date object of today's date\n",
    "today = date.today()\n",
    "print(\"Current year:\", today.year)   # 2019\n",
    "print(\"Current month:\", today.month) # 12\n",
    "print(\"Current day:\", today.day)     # 5"
   ]
  },
  {
   "attachments": {},
   "cell_type": "markdown",
   "metadata": {},
   "source": []
  },
  {
   "cell_type": "code",
   "execution_count": 44,
   "metadata": {},
   "outputs": [
    {
     "name": "stdout",
     "output_type": "stream",
     "text": [
      "today is: 2023-02-24 17:42:27.989281 \n",
      " Day: 24 \n",
      " Month: 2 \n",
      " Year: 2023\n"
     ]
    }
   ],
   "source": [
    "## 1\n",
    "# Get the current day, month, year, hour, minute and timestamp from datetime module\n",
    "from datetime import datetime\n",
    "today = datetime.now()\n",
    "day = today.day\n",
    "month = today.month\n",
    "year = today.year\n",
    "hour = today.hour\n",
    "minute = today.minute\n",
    "timestamps = today.timestamp()\n",
    "\n",
    "print('today is:',today, '\\n', 'Day:',day,'\\n','Month:',month,'\\n','Year:', year)"
   ]
  },
  {
   "cell_type": "code",
   "execution_count": 49,
   "metadata": {},
   "outputs": [
    {
     "name": "stdout",
     "output_type": "stream",
     "text": [
      "02/24/2023, 17:42:27\n"
     ]
    }
   ],
   "source": [
    "## 2\n",
    "#Format the current date using this format: \"%m/%d/%Y, %H:%M:%S\") \n",
    "format_today = today.strftime('%m/%d/%Y, %H:%M:%S')\n",
    "print(format_today)"
   ]
  },
  {
   "cell_type": "code",
   "execution_count": 57,
   "metadata": {},
   "outputs": [
    {
     "name": "stdout",
     "output_type": "stream",
     "text": [
      "2019-12-05 00:00:00\n"
     ]
    }
   ],
   "source": [
    "## 3\n",
    "#Today is 5 December, 2019. Change this time string to time.\n",
    "today = '5 December, 2019'\n",
    "to_date = datetime.strptime(today, '%d %B, %Y')\n",
    "print(to_date)"
   ]
  },
  {
   "cell_type": "code",
   "execution_count": 63,
   "metadata": {},
   "outputs": [
    {
     "name": "stdout",
     "output_type": "stream",
     "text": [
      "676 days, 0:00:00\n"
     ]
    }
   ],
   "source": [
    "## 4\n",
    "# Calculate the time difference between now and new year.\n",
    "\n",
    "today = datetime(year = 2023, month = 2, day = 24)\n",
    "new_year = datetime(year = 2024, month = 12,day=31)\n",
    "difference = new_year - today\n",
    "print(difference)"
   ]
  },
  {
   "cell_type": "code",
   "execution_count": 64,
   "metadata": {},
   "outputs": [
    {
     "name": "stdout",
     "output_type": "stream",
     "text": [
      "19412 days, 0:00:00\n"
     ]
    }
   ],
   "source": [
    "# 5\n",
    "## Calculate the time difference between 1 January 1970 and now.\n",
    "now = datetime(year = 2023, month = 2, day = 24)\n",
    "given = datetime(year = 1970, month = 1, day=1)\n",
    "\n",
    "difference = now - given\n",
    "print(difference)"
   ]
  },
  {
   "cell_type": "code",
   "execution_count": null,
   "metadata": {},
   "outputs": [],
   "source": []
  }
 ],
 "metadata": {
  "kernelspec": {
   "display_name": "base",
   "language": "python",
   "name": "python3"
  },
  "language_info": {
   "codemirror_mode": {
    "name": "ipython",
    "version": 3
   },
   "file_extension": ".py",
   "mimetype": "text/x-python",
   "name": "python",
   "nbconvert_exporter": "python",
   "pygments_lexer": "ipython3",
   "version": "3.8.8"
  },
  "orig_nbformat": 4,
  "vscode": {
   "interpreter": {
    "hash": "cd872e1ce7dedf97223fa715644db405105793341dd540346fd90ca54e89fb22"
   }
  }
 },
 "nbformat": 4,
 "nbformat_minor": 2
}
