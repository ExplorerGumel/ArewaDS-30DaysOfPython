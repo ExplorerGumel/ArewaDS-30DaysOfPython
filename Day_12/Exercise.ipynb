{
 "cells": [
  {
   "attachments": {},
   "cell_type": "markdown",
   "metadata": {},
   "source": [
    "# LEVEL 1"
   ]
  },
  {
   "cell_type": "code",
   "execution_count": 52,
   "metadata": {},
   "outputs": [
    {
     "name": "stdout",
     "output_type": "stream",
     "text": [
      "Random password is: dhcvXT\n"
     ]
    }
   ],
   "source": [
    "# 1\n",
    "#  Write a functi*on which generates a six digit/character random_user_id\n",
    "import random\n",
    "import string\n",
    "def random_user_id(length):\n",
    "    characters = string.ascii_letters + string.digits\n",
    "    password = ''.join(random.choice(characters) for i in range(length))\n",
    "    print(\"Random password is:\", password)\n",
    "\n",
    "random_user_id(6)"
   ]
  },
  {
   "cell_type": "code",
   "execution_count": 26,
   "metadata": {},
   "outputs": [
    {
     "name": "stdout",
     "output_type": "stream",
     "text": [
      "96jhfeyi\n",
      "syLvlvsP\n",
      "XGG8nH3a\n",
      "gBxuvjIC\n"
     ]
    }
   ],
   "source": [
    "## 2\n",
    "# Modify the previous task. Declare a function named user_id_gen_by_user. It doesn’t take any parameters but it takes two \n",
    "# inputs using input(). One of the inputs is the number of characters and the second input is the number of IDs which are \n",
    "# supposed to be generated.\n",
    "import string\n",
    "import random\n",
    "def user_id_gen_by_user():\n",
    "    length = int(input('Enter length of the characters'))\n",
    "    IDs = int(input('Enter number of IDs to create'))\n",
    "\n",
    "    characters = string.ascii_letters + string.digits\n",
    "    for id in range(IDs):\n",
    "        passwords = ''.join(random.choice(characters) for i in range(length))\n",
    "        print(passwords)\n",
    "\n",
    "user_id_gen_by_user()"
   ]
  },
  {
   "cell_type": "code",
   "execution_count": 130,
   "metadata": {},
   "outputs": [
    {
     "name": "stdout",
     "output_type": "stream",
     "text": [
      "rgb(198,254,121)\n"
     ]
    }
   ],
   "source": [
    "## 3\n",
    "# Write a function named rgb_color_gen. It will generate rgb colors (3 values ranging from 0 to 255 each).\n",
    "import string\n",
    "import random\n",
    "\n",
    "\n",
    "def rgb_color_gen():\n",
    "    for i in range(3):\n",
    "        r = str(random.randint(0,255)) \n",
    "        g = str(random.randint(0, 255))\n",
    "        b = str(random.randint(0, 255))\n",
    "        return \"rgb(\" + r + \",\" + g + \",\" + b + \")\"\n",
    "print(rgb_color_gen())"
   ]
  },
  {
   "attachments": {},
   "cell_type": "markdown",
   "metadata": {},
   "source": [
    "# LEVEL 2"
   ]
  },
  {
   "cell_type": "code",
   "execution_count": 64,
   "metadata": {},
   "outputs": [
    {
     "name": "stdout",
     "output_type": "stream",
     "text": [
      "['#c1e2e4', '#da5354', '#2dd3c9', '#fbd6be', '#7a2d45', '#c053a7']\n"
     ]
    }
   ],
   "source": [
    "## 1\n",
    "# Write a function list_of_hexa_colors which returns any number of hexadecimal colors in an array (six hexadecimal \n",
    "# numbers written after #. Hexadecimal numeral system is made out of 16 symbols, 0-9 and first 6 letters\n",
    "#  of the alphabet, a-f. Check the task 6 for output examples).\n",
    "\n",
    "def list_of_hexa_colors(length):\n",
    "    hex_nos = [0,1,2,3,4,5,6,7,8,9]\n",
    "    hex_alp = ['A','B','C','D','E','F']\n",
    "    for num in range(length):\n",
    "        nos = str(random.choice(hex_nos)) + str(random.choice(hex_alp))\n",
    "        hexa = ''.join(random.choice(nos) for i in range(length))\n",
    "        print(hexa)\n",
    "list_of_hexa_colors(8)"
   ]
  },
  {
   "cell_type": "code",
   "execution_count": 84,
   "metadata": {},
   "outputs": [
    {
     "name": "stdout",
     "output_type": "stream",
     "text": [
      "['rgb(246, 152, 240)', 'rgb(43, 202, 212)']\n"
     ]
    }
   ],
   "source": [
    "## 2 \n",
    "# Write a function list_of_rgb_colors which returns any number of RGB colors in an array.\n",
    "\n",
    "from random import choice\n",
    "def list_of_rgb_colors(n):\n",
    "    rgb_list = []\n",
    "    for i in range(n):\n",
    "        levels = range(0,256)\n",
    "        rgb = \"rgb\" + str(tuple(choice(levels) for i in range(3)))\n",
    "        rgb_list.append(rgb)\n",
    "    return rgb_list\n",
    "print(list_of_rgb_colors(2))"
   ]
  },
  {
   "cell_type": "code",
   "execution_count": 105,
   "metadata": {},
   "outputs": [
    {
     "name": "stdout",
     "output_type": "stream",
     "text": [
      "88E8E8\n",
      "rgb(3,226,97)\n"
     ]
    }
   ],
   "source": [
    "# 3\n",
    "## Write a function generate_colors which can generate any number of hexa or rgb colors.\n",
    "\n",
    "def generate_colors(length,hexa=None,rgb = None):\n",
    "    if rgb:\n",
    "        for i in range(length):\n",
    "            r = str(random.randint(0,255)) \n",
    "            g = str(random.randint(0, 255))\n",
    "            b = str(random.randint(0, 255))\n",
    "            return \"rgb(\" + r + \",\" + g + \",\" + b + \")\"\n",
    "    elif hexa:\n",
    "        hex_nos = [0,1,2,3,4,5,6,7,8,9]\n",
    "        hex_alp = ['A','B','C','D','E','F']\n",
    "        for num in range(length):\n",
    "            nos = str(random.choice(hex_nos)) + str(random.choice(hex_alp))\n",
    "            hexa = ''.join(random.choice(nos) for i in range(length))\n",
    "            return hexa\n",
    "print(generate_colors(length=6,hexa=True))\n",
    "print(generate_colors(length=3, rgb=True))"
   ]
  },
  {
   "attachments": {},
   "cell_type": "markdown",
   "metadata": {},
   "source": [
    "# LEVEL 3"
   ]
  },
  {
   "cell_type": "code",
   "execution_count": 112,
   "metadata": {},
   "outputs": [
    {
     "name": "stdout",
     "output_type": "stream",
     "text": [
      "The original list : [6, 4, 8, 9, 10]\n",
      "List 1 after shuffle : [4, 10, 6, 8, 9]\n"
     ]
    }
   ],
   "source": [
    "## 1\n",
    "# Call your function shuffle_list, it takes a list as a parameter and it returns a shuffled list\n",
    "import random\n",
    "def shuffle_list(lst):\n",
    "    print(\"The original list : {}\".format(lst))\n",
    "    random.shuffle(lst)\n",
    "    return \"List 1 after shuffle : {}\".format(lst)\n",
    "print(shuffle_list([6, 4, 8, 9, 10]))"
   ]
  },
  {
   "cell_type": "code",
   "execution_count": 127,
   "metadata": {},
   "outputs": [
    {
     "data": {
      "text/plain": [
       "[9, 6, 8, 5, 3, 0, 1]"
      ]
     },
     "execution_count": 127,
     "metadata": {},
     "output_type": "execute_result"
    }
   ],
   "source": [
    "## 2\n",
    "#Write a function which returns an array of seven random numbers in a range of 0-9. All the numbers must \n",
    "# be unique.\n",
    "\n",
    "def random_unique_numbers():\n",
    "    numbers = random.sample(range(10), 7)\n",
    "    return numbers\n",
    "\n",
    "random_unique_numbers()\n"
   ]
  },
  {
   "cell_type": "code",
   "execution_count": null,
   "metadata": {},
   "outputs": [],
   "source": []
  }
 ],
 "metadata": {
  "kernelspec": {
   "display_name": "base",
   "language": "python",
   "name": "python3"
  },
  "language_info": {
   "codemirror_mode": {
    "name": "ipython",
    "version": 3
   },
   "file_extension": ".py",
   "mimetype": "text/x-python",
   "name": "python",
   "nbconvert_exporter": "python",
   "pygments_lexer": "ipython3",
   "version": "3.8.8"
  },
  "orig_nbformat": 4,
  "vscode": {
   "interpreter": {
    "hash": "cd872e1ce7dedf97223fa715644db405105793341dd540346fd90ca54e89fb22"
   }
  }
 },
 "nbformat": 4,
 "nbformat_minor": 2
}
