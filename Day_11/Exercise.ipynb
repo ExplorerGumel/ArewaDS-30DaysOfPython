{
 "cells": [
  {
   "attachments": {},
   "cell_type": "markdown",
   "metadata": {},
   "source": [
    "# LEVEL 1"
   ]
  },
  {
   "cell_type": "code",
   "execution_count": 4,
   "metadata": {},
   "outputs": [
    {
     "data": {
      "text/plain": [
       "9"
      ]
     },
     "execution_count": 4,
     "metadata": {},
     "output_type": "execute_result"
    }
   ],
   "source": [
    "## 1 Declare a function add_two_numbers. It takes two parameters and it returns a sum.\n",
    "\n",
    "def add_two_numbers(num_1,num_2):\n",
    "    sum = num_1 + num_2\n",
    "    return sum\n",
    "add_two_numbers(3,6)\n",
    "\n",
    "## 2 Area of a circle is calculated as follows: area = π x r x r. \n",
    "# Write a function that calculates area_of_circle.\n",
    "\n",
    "def area_of_circle(radius):\n",
    "    area = 3.14 * radius ** 2\n",
    "    return area\n",
    "\n",
    "## 3 Write a function called add_all_nums which takes arbitrary number of arguments \n",
    "# and sums all the arguments. \n",
    "# Check if all the list items are number types. If not do give a reasonable feedback.\n",
    "\n",
    "def add_all_nums(*num):\n",
    "    total = 0\n",
    "    if type(nums) == 'number':\n",
    "        total += nums\n",
    "        print(total)\n",
    "    print('Wrong Entry')"
   ]
  },
  {
   "cell_type": "code",
   "execution_count": null,
   "metadata": {},
   "outputs": [],
   "source": [
    "def add_all_nums(*num):\n",
    "    total = 0\n",
    "    if type(nums) == 'number':\n",
    "        total += nums\n",
    "        print(total)\n",
    "    print('Wrong Entry')\n",
    "\n",
    "num=[2,5,7,8]\n",
    "add_all_nums(num)"
   ]
  },
  {
   "cell_type": "code",
   "execution_count": 4,
   "metadata": {},
   "outputs": [
    {
     "ename": "AttributeError",
     "evalue": "'tuple' object has no attribute 'isdigit'",
     "output_type": "error",
     "traceback": [
      "\u001b[1;31m---------------------------------------------------------------------------\u001b[0m",
      "\u001b[1;31mAttributeError\u001b[0m                            Traceback (most recent call last)",
      "\u001b[1;32m<ipython-input-4-487b1cdea9ba>\u001b[0m in \u001b[0;36m<module>\u001b[1;34m\u001b[0m\n\u001b[0;32m      7\u001b[0m \u001b[1;33m\u001b[0m\u001b[0m\n\u001b[0;32m      8\u001b[0m \u001b[0mnum\u001b[0m\u001b[1;33m=\u001b[0m\u001b[1;33m[\u001b[0m\u001b[1;36m2\u001b[0m\u001b[1;33m,\u001b[0m\u001b[1;36m5\u001b[0m\u001b[1;33m,\u001b[0m\u001b[1;36m7\u001b[0m\u001b[1;33m,\u001b[0m\u001b[1;36m8\u001b[0m\u001b[1;33m]\u001b[0m\u001b[1;33m\u001b[0m\u001b[1;33m\u001b[0m\u001b[0m\n\u001b[1;32m----> 9\u001b[1;33m \u001b[0madd_all_nums\u001b[0m\u001b[1;33m(\u001b[0m\u001b[0mnum\u001b[0m\u001b[1;33m)\u001b[0m\u001b[1;33m\u001b[0m\u001b[1;33m\u001b[0m\u001b[0m\n\u001b[0m",
      "\u001b[1;32m<ipython-input-4-487b1cdea9ba>\u001b[0m in \u001b[0;36madd_all_nums\u001b[1;34m(*nums)\u001b[0m\n\u001b[0;32m      1\u001b[0m \u001b[1;32mdef\u001b[0m \u001b[0madd_all_nums\u001b[0m\u001b[1;33m(\u001b[0m\u001b[1;33m*\u001b[0m\u001b[0mnums\u001b[0m\u001b[1;33m)\u001b[0m\u001b[1;33m:\u001b[0m\u001b[1;33m\u001b[0m\u001b[1;33m\u001b[0m\u001b[0m\n\u001b[0;32m      2\u001b[0m     \u001b[0mtotal\u001b[0m \u001b[1;33m=\u001b[0m \u001b[1;36m0\u001b[0m\u001b[1;33m\u001b[0m\u001b[1;33m\u001b[0m\u001b[0m\n\u001b[1;32m----> 3\u001b[1;33m     \u001b[1;32mif\u001b[0m \u001b[0mnums\u001b[0m\u001b[1;33m.\u001b[0m\u001b[0misdigit\u001b[0m\u001b[1;33m(\u001b[0m\u001b[1;33m)\u001b[0m\u001b[1;33m:\u001b[0m\u001b[1;33m\u001b[0m\u001b[1;33m\u001b[0m\u001b[0m\n\u001b[0m\u001b[0;32m      4\u001b[0m         \u001b[0mtotal\u001b[0m \u001b[1;33m+=\u001b[0m \u001b[0mnums\u001b[0m\u001b[1;33m\u001b[0m\u001b[1;33m\u001b[0m\u001b[0m\n\u001b[0;32m      5\u001b[0m         \u001b[0mprint\u001b[0m\u001b[1;33m(\u001b[0m\u001b[0mtotal\u001b[0m\u001b[1;33m)\u001b[0m\u001b[1;33m\u001b[0m\u001b[1;33m\u001b[0m\u001b[0m\n",
      "\u001b[1;31mAttributeError\u001b[0m: 'tuple' object has no attribute 'isdigit'"
     ]
    }
   ],
   "source": [
    "def add_all_nums(*nums):\n",
    "    total = 0\n",
    "    if nums.isdigit():\n",
    "        total += nums\n",
    "        print(total)\n",
    "    print('Wrong Entry')\n",
    "\n",
    "num=[2,5,7,8]\n",
    "add_all_nums(num)"
   ]
  },
  {
   "attachments": {},
   "cell_type": "markdown",
   "metadata": {},
   "source": []
  },
  {
   "cell_type": "code",
   "execution_count": 5,
   "metadata": {},
   "outputs": [
    {
     "data": {
      "text/plain": [
       "73.4"
      ]
     },
     "execution_count": 5,
     "metadata": {},
     "output_type": "execute_result"
    }
   ],
   "source": [
    "## 4 Temperature in °C can be converted to °F using this formula: °F = (°C x 9/5) + 32.\n",
    "# Write a function which converts °C to °F, convert_celsius_to-fahrenheit.\n",
    "\n",
    "def celsius_to_fahrenheit(C):\n",
    "    F = C * (9/5) + 32\n",
    "    return F\n",
    "\n",
    "celsius_to_fahrenheit(23)\n",
    "\n",
    "## 5 Write a function called check-season, it takes a month parameter and returns the \n",
    "# season: Autumn, Winter, Spring or Summer.\n",
    "def check_season(month):\n",
    "    if month in ['January','February','March']:\n",
    "        print('Autumn')\n",
    "    elif month in ['April','May','June']:\n",
    "        print('Winter')\n",
    "    elif month in ['July','August','September']:\n",
    "        print('Spring')\n",
    "    else:\n",
    "        print('Summer')\n",
    "\n",
    "check_season('April') \n",
    "\n",
    "## 6 Write a function called calculate_slope which return the slope \n",
    "# of a linear equation\n",
    "def calculate_slope(x,y,b):\n",
    "    ## y = mx + b\n",
    "    if y == 1:\n",
    "        slope = x\n",
    "    else:\n",
    "        slope = (x/y)\n",
    "    return slope \n",
    "calculate_slope(4,2,3)\n"
   ]
  },
  {
   "cell_type": "code",
   "execution_count": 25,
   "metadata": {},
   "outputs": [
    {
     "data": {
      "text/plain": [
       "(0.5, -2.5)"
      ]
     },
     "execution_count": 25,
     "metadata": {},
     "output_type": "execute_result"
    }
   ],
   "source": [
    "## 7 Quadratic equation is calculated as follows: ax² + bx + c = 0. Write a function \n",
    "# which calculates solution set of a quadratic equation, solve_quadratic_eqn.\n",
    "\n",
    "## x**2 + 6y -7 =0\n",
    "import math\n",
    "def quadratic_equation(a,b,c):\n",
    "## Using quadratic formula -b +- sqrt(b**2)-4ac / 2a\n",
    "    sol1 = -b + abs((math.sqrt( b**2) - 4*a*c))/2*a\n",
    "    sol2 = -b - abs((math.sqrt( b**2) - 4*a*c))/2*a\n",
    "    return sol1,sol2\n",
    "quadratic_equation(1,1,1)\n",
    "\n",
    "## Q8 Declare a function named print_list. It takes a list as a parameter and it \n",
    "# prints out each element of the list.\n",
    "def print_list(lst):\n",
    "    for l in lst:\n",
    "        print(l)\n",
    "\n",
    "## Q9 Declare a function named reverse_list. It takes an array as a parameter and it \n",
    "# returns the reverse of the array (use loops).\n",
    "def reverse_list(lst):\n",
    "    reversed_list = lst[::-1]\n",
    "    for l in reversed_list:\n",
    "        print(l)\n",
    "\n",
    "reverse_list([2,3,4,5])"
   ]
  },
  {
   "attachments": {},
   "cell_type": "markdown",
   "metadata": {},
   "source": [
    "Declare a function named capitalize_list_items. It takes a list as a parameter and it returns a capitalized list of items\n",
    "Declare a function named add_item. It takes a list and an item parameters. It returns a list with the item added at the end."
   ]
  },
  {
   "cell_type": "code",
   "execution_count": 46,
   "metadata": {},
   "outputs": [
    {
     "data": {
      "text/plain": [
       "['ALI', 'MUSA', 'SALE']"
      ]
     },
     "execution_count": 46,
     "metadata": {},
     "output_type": "execute_result"
    }
   ],
   "source": [
    "names_upper = []\n",
    "def capitalize_list_items(lst):\n",
    "    for name in lst:\n",
    "        names_upper.append(name.upper())\n",
    "        return names_upper\n",
    "\n",
    "lst1 = ['ali','Musa','Sale']\n",
    "capitalize_list_items(lst1)   "
   ]
  },
  {
   "cell_type": "code",
   "execution_count": 60,
   "metadata": {},
   "outputs": [
    {
     "data": {
      "text/plain": [
       "['ALI', 'Musa', 'Sale']"
      ]
     },
     "execution_count": 60,
     "metadata": {},
     "output_type": "execute_result"
    }
   ],
   "source": [
    "def capitalize_list_items(lst):\n",
    "    for i in range(len(lst)+1):\n",
    "        lst[i] = lst[i].upper()\n",
    "        return lst\n",
    "\n",
    "lst1 = ['ali','Musa','Sale']\n",
    "capitalize_list_items(lst1)   "
   ]
  },
  {
   "cell_type": "code",
   "execution_count": 41,
   "metadata": {},
   "outputs": [
    {
     "name": "stdout",
     "output_type": "stream",
     "text": [
      "['ALICE', 'BOB', 'CHARLIE']\n"
     ]
    }
   ],
   "source": [
    "names = [\"Alice\", \"Bob\", \"Charlie\"]\n",
    "names_lower = []\n",
    "\n",
    "for name in names:\n",
    "    names_lower.append(name.upper())\n",
    "\n",
    "print(names_lower)"
   ]
  },
  {
   "cell_type": "code",
   "execution_count": null,
   "metadata": {},
   "outputs": [],
   "source": [
    "#Declare a function named add_item. It takes a list and an item parameters.\n",
    "#  It returns a list with the item added at the end.\n",
    "\n",
    "def add_item(lst,added):\n",
    "    return lst.append(added)\n",
    "list1 = [1,2,3,4,5]\n",
    "added = 6\n",
    "add_item(list1,added)\n",
    "\n",
    "#Declare a function named remove_item. It takes a list and an item parameters. \n",
    "# It returns a list with the item removed from it.\n",
    "\n",
    "def remove_item(lst,rem):\n",
    "    return lst.append(added)\n",
    "list1 = [1,2,3,4,5]\n",
    "added = 6\n",
    "remove_item(list1,added)\n",
    "\n",
    "#Declare a function named sum_of_numbers. It takes a number parameter and it \n",
    "# adds all the numbers in that range.\n",
    "\n",
    "def sum_of_numbers(*nums):\n",
    "    for i in range(nums):\n",
    "        return sum(nums[i])\n",
    "\n",
    "sum_of_numbers([1,2,3,4,5])\n",
    "\n",
    "#Declare a function named sum_of_odds. It takes a number parameter \n",
    "# and it adds all the odd numbers in that range.\n",
    "\n",
    "def sum_of_odds(*nums):\n",
    "    for i in range(nums):\n",
    "        if nums[i] % 2 != 0:\n",
    "            return sum(nums[i])\n",
    "\n",
    "#Declare a function named sum_of_even. It takes a number parameter and it \n",
    "# adds all the even numbers in that - range.\n",
    "\n",
    "def sum_of_even(*nums):\n",
    "    for i in range(nums):\n",
    "        if nums[i] % 2 == 0:\n",
    "            return sum(nums[i])"
   ]
  },
  {
   "attachments": {},
   "cell_type": "markdown",
   "metadata": {},
   "source": [
    "# LEVEL 2"
   ]
  },
  {
   "cell_type": "code",
   "execution_count": null,
   "metadata": {},
   "outputs": [],
   "source": [
    "#Declare a function named evens_and_odds . It takes a positive integer as parameter and \n",
    "# it counts number of evens and odds in the number.\n",
    "\n",
    "def evens_and_odds(num):\n",
    "    for i in range(num):\n",
    "        if num[i] % 2 == 0:\n",
    "            evens = len(num[i])\n",
    "        else:\n",
    "            odds = len(num) - even\n",
    "\n",
    "        print(f'The {num} has {even} even numbers and {odds} odd numbers')"
   ]
  },
  {
   "attachments": {},
   "cell_type": "markdown",
   "metadata": {},
   "source": [
    "\n",
    "Call your function is_empty, it takes a parameter and it checks if it is empty or not\n",
    "Write different functions which take lists. They should calculate_mean, calculate_median, calculate_mode, calculate_range, calculate_variance, calculate_std (standard deviation)."
   ]
  },
  {
   "cell_type": "code",
   "execution_count": null,
   "metadata": {},
   "outputs": [],
   "source": [
    "# Call your function factorial, it takes a whole number as a parameter and it return a \n",
    "# factorial of the number\n",
    "total = []\n",
    "def factorial(num):\n",
    "    for i in range(num)+1:\n",
    "        total *= num[i]\n",
    "        factorial = sum(total)\n",
    "        return factorial"
   ]
  },
  {
   "cell_type": "markdown",
   "metadata": {},
   "source": []
  }
 ],
 "metadata": {
  "kernelspec": {
   "display_name": "base",
   "language": "python",
   "name": "python3"
  },
  "language_info": {
   "codemirror_mode": {
    "name": "ipython",
    "version": 3
   },
   "file_extension": ".py",
   "mimetype": "text/x-python",
   "name": "python",
   "nbconvert_exporter": "python",
   "pygments_lexer": "ipython3",
   "version": "3.8.8"
  },
  "orig_nbformat": 4,
  "vscode": {
   "interpreter": {
    "hash": "cd872e1ce7dedf97223fa715644db405105793341dd540346fd90ca54e89fb22"
   }
  }
 },
 "nbformat": 4,
 "nbformat_minor": 2
}
