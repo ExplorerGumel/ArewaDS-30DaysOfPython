{
 "cells": [
  {
   "attachments": {},
   "cell_type": "markdown",
   "metadata": {},
   "source": [
    "# LEVEL 1"
   ]
  },
  {
   "cell_type": "code",
   "execution_count": 4,
   "metadata": {},
   "outputs": [
    {
     "data": {
      "text/plain": [
       "9"
      ]
     },
     "execution_count": 4,
     "metadata": {},
     "output_type": "execute_result"
    }
   ],
   "source": [
    "## 1 Declare a function add_two_numbers. It takes two parameters and it returns a sum.\n",
    "def add_two_numbers(num_1,num_2):\n",
    "    sum = num_1 + num_2\n",
    "    return sum\n",
    "add_two_numbers(3,6)\n",
    "\n",
    "## 2 Area of a circle is calculated as follows: area = π x r x r. \n",
    "# Write a function that calculates area_of_circle.\n",
    "def area_of_circle(radius):\n",
    "    area = 3.14 * radius ** 2\n",
    "    return area\n",
    "\n",
    "## 3 Write a function called add_all_nums which takes arbitrary number of arguments \n",
    "# and sums all the arguments. \n",
    "# Check if all the list items are number types. If not do give a reasonable feedback.\n",
    "\n",
    "def add_all_nums(*nums):\n",
    "    for num in nums:\n",
    "        if isinstance(num, int) == False or isinstance(num, float)==False:\n",
    "            summation = sum(num)\n",
    "            print(summation)\n",
    "            break     \n",
    "        else:\n",
    "            print('Wrong Entry')\n",
    "add_all_nums([2,3,4.6])"
   ]
  },
  {
   "cell_type": "code",
   "execution_count": 5,
   "metadata": {},
   "outputs": [
    {
     "data": {
      "text/plain": [
       "73.4"
      ]
     },
     "execution_count": 5,
     "metadata": {},
     "output_type": "execute_result"
    }
   ],
   "source": [
    "## 4 Temperature in °C can be converted to °F using this formula: °F = (°C x 9/5) + 32.\n",
    "# Write a function which converts °C to °F, convert_celsius_to-fahrenheit.\n",
    "\n",
    "def celsius_to_fahrenheit(C):\n",
    "    F = C * (9/5) + 32\n",
    "    return F\n",
    "\n",
    "celsius_to_fahrenheit(23)\n",
    "\n",
    "## 5 Write a function called check-season, it takes a month parameter and returns the \n",
    "# season: Autumn, Winter, Spring or Summer.\n",
    "def check_season(month):\n",
    "    if month in ['January','February','March']:\n",
    "        print('Autumn')\n",
    "    elif month in ['April','May','June']:\n",
    "        print('Winter')\n",
    "    elif month in ['July','August','September']:\n",
    "        print('Spring')\n",
    "    else:\n",
    "        print('Summer')\n",
    "\n",
    "check_season('April') \n",
    "\n",
    "## 6 Write a function called calculate_slope which return the slope \n",
    "# of a linear equation\n",
    "def calculate_slope(x,y,b):\n",
    "    ## y = mx + b\n",
    "    if y == 1:\n",
    "        slope = x\n",
    "    else:\n",
    "        slope = (x/y)\n",
    "    return slope \n",
    "calculate_slope(4,2,3)\n"
   ]
  },
  {
   "cell_type": "code",
   "execution_count": 25,
   "metadata": {},
   "outputs": [
    {
     "data": {
      "text/plain": [
       "(0.5, -2.5)"
      ]
     },
     "execution_count": 25,
     "metadata": {},
     "output_type": "execute_result"
    }
   ],
   "source": [
    "## 7 Quadratic equation is calculated as follows: ax² + bx + c = 0. Write a function \n",
    "# which calculates solution set of a quadratic equation, solve_quadratic_eqn.\n",
    "\n",
    "## x**2 + 6y -7 =0\n",
    "import math\n",
    "def quadratic_equation(a,b,c):\n",
    "## Using quadratic formula -b +- sqrt(b**2)-4ac / 2a\n",
    "    sol1 = -b + abs((math.sqrt( b**2) - 4*a*c))/2*a\n",
    "    sol2 = -b - abs((math.sqrt( b**2) - 4*a*c))/2*a\n",
    "    return sol1,sol2\n",
    "quadratic_equation(1,1,1)\n",
    "\n",
    "## Q8 Declare a function named print_list. It takes a list as a parameter and it \n",
    "# prints out each element of the list.\n",
    "def print_list(lst):\n",
    "    for l in lst:\n",
    "        print(l)\n",
    "\n",
    "## Q9 Declare a function named reverse_list. It takes an array as a parameter and it \n",
    "# returns the reverse of the array (use loops).\n",
    "def reverse_list(lst):\n",
    "    reversed_list = lst[::-1]\n",
    "    for l in reversed_list:\n",
    "        print(l)\n",
    "\n",
    "reverse_list([2,3,4,5])\n"
   ]
  },
  {
   "cell_type": "code",
   "execution_count": null,
   "metadata": {},
   "outputs": [],
   "source": [
    "# 10 Declare a function named capitalize_list_items. It takes a list as a parameter and it \n",
    "# returns a capitalized list of items\n",
    "names = [\"Alice\", \"Bob\", \"Charlie\"]\n",
    "names_lower = []\n",
    "\n",
    "for name in names:\n",
    "    names_lower.append(name.upper())\n",
    "\n",
    "print(names_lower)\n",
    "\n",
    "# 11 Declare a function named add_item. It takes a list and an item parameters.\n",
    "#  It returns a list with the item added at the end.\n",
    "\n",
    "def add_item(lst,added):\n",
    "    return lst.append(added)\n",
    "list1 = [1,2,3,4,5]\n",
    "added = 6\n",
    "add_item(list1,added)\n",
    "\n",
    "# 12 Declare a function named remove_item. It takes a list and an item parameters. \n",
    "# It returns a list with the item removed from it.\n",
    "\n",
    "def remove_item(lst,rem):\n",
    "    return lst.append(added)\n",
    "list1 = [1,2,3,4,5]\n",
    "added = 6\n",
    "remove_item(list1,added)\n",
    "\n",
    "#  13 Declare a function named sum_of_numbers. It takes a number parameter and it \n",
    "# adds all the numbers in that range.\n",
    "\n",
    "def sum_of_numbers(*args):\n",
    "    adds = 0\n",
    "    for num in args:\n",
    "        if not str(num).isdigit():\n",
    "            return False\n",
    "        else:\n",
    "            adds += int(num)\n",
    "    return sum\n",
    "\n",
    "sum_of_numbers([1,2,3,4,5])\n",
    "\n",
    "# 14 Declare a function named sum_of_odds. It takes a number parameter \n",
    "# and it adds all the odd numbers in that range.\n",
    "\n",
    "def sum_of_odds(*args):\n",
    "    for num in args:\n",
    "        odd_num = list(filter(lambda x: (x%2!=0),num))\n",
    "\n",
    "        return sum(odd_num)\n",
    "sum_of_odds([1,2,3,4,5,6,7,8,9])\n",
    "# 15 Declare a function named sum_of_even. It takes a number parameter and it \n",
    "# adds all the even numbers in that - range.\n",
    "\n",
    "def sum_of_even(*args):\n",
    "    for num in args:\n",
    "        even_num = list(filter(lambda x: (x%2==0),num))\n",
    "        return sum(even_num)\n",
    "sum_of_odds([1,2,3,4,5,6,7,8,9])"
   ]
  },
  {
   "attachments": {},
   "cell_type": "markdown",
   "metadata": {},
   "source": [
    "# LEVEL 2"
   ]
  },
  {
   "cell_type": "code",
   "execution_count": 112,
   "metadata": {},
   "outputs": [
    {
     "data": {
      "text/plain": [
       "[2, 4, 6, 8]"
      ]
     },
     "execution_count": 112,
     "metadata": {},
     "output_type": "execute_result"
    }
   ],
   "source": [
    "num = [1,2,3,4,5,6,7,8]\n",
    "list(filter(lambda x: (x%2==0),num))"
   ]
  },
  {
   "cell_type": "code",
   "execution_count": null,
   "metadata": {},
   "outputs": [],
   "source": [
    "# 1 Declare a function named evens_and_odds . It takes a positive integer as parameter and \n",
    "# it counts number of evens and odds in the number.\n",
    "\n",
    "def evens_and_odds(num):\n",
    "    for nums in range(num):\n",
    "        if nums % 2 == 0:\n",
    "            evens = len(nums)\n",
    "        else:\n",
    "            odds = len(num) - evens\n",
    "        \n",
    "        print(f'The {num} has {even} even numbers and {odds} odd numbers')\n",
    "\n"
   ]
  },
  {
   "cell_type": "code",
   "execution_count": null,
   "metadata": {},
   "outputs": [],
   "source": [
    "# 2 Call your function factorial, it takes a whole number as a parameter and it return a \n",
    "# factorial of the number\n",
    "def factorial(num):\n",
    "    factorial = 1\n",
    "    for i in range(1,num + 1):    \n",
    "        factorial *= i    \n",
    "    print(\"The factorial of\",num,\"is\",factorial)    \n",
    "\n",
    "factorial(5)\n",
    "\n",
    "# 3 Call your function is_empty, it takes a parameter and it checks if it is empty\n",
    "#  or not\n",
    "\n",
    "def is_empty(param):\n",
    "    if param == []:\n",
    "        print('It is Empty')\n",
    "    else:\n",
    "        print('It is not an empty')\n",
    "\n",
    "is_empty([])\n",
    "\n",
    "# 4 Write different functions which take lists. They should calculate_mean, calculate_median, calculate_mode, \n",
    "# calculate_range, calculate_variance, calculate_std (standard deviation).\n",
    "\n",
    "def calculate_mean(lst):\n",
    "    mean = sum(lst)/len(lst) \n",
    "    return mean\n",
    "\n",
    "\n",
    "def calculate_median(lst):\n",
    "    lst.sort()\n",
    "    n = len(lst)\n",
    "    m = n // 2\n",
    "    if n % 2 == 0:\n",
    "        return (lst[m - 1] + lst[m]) / 2\n",
    "    else:\n",
    "        return lst[m]\n",
    "calculate_median([3,6,8,7])\n",
    "\n",
    "\n",
    "def calculate_mode(lst):\n",
    "    max_occ = max([arr.count(a) for a in arr])\n",
    "    print(m)\n",
    "    return [x for x in arr if arr.count(x) == max_occ][0] if m>1 else None\n",
    "\n",
    "\n",
    "def calculate_range(lst):\n",
    "    maximum = max(lst)\n",
    "    minimum = min(lst)\n",
    "    range_n = maximum - minimum\n",
    "    return range_n \n",
    "calculate_range([2,3,4,3])\n",
    "\n",
    "#math.sqrt(sum(xi - mean))// len(n) - 1\n",
    "def calculate_variance(lst):\n",
    "    mean = calculate_mean(lst)\n",
    "    for i in range(len(lst)):\n",
    "        numerator = math.sqrt(sum(lst[i] - mean))\n",
    "        denominator = len(lst) - 1\n",
    "        variance = numerator / denominator\n",
    "        return variance\n",
    "\n",
    "def calculate_std(lst):\n",
    "    mean = calculate_mean(lst)\n",
    "    for i in range(len(lst)):\n",
    "        numerator = math.sqrt(sum(lst[i] - mean))\n",
    "        denominator = len(lst) - 1\n",
    "        std = np.sqrt(numerator / denominator)\n",
    "        return std"
   ]
  },
  {
   "attachments": {},
   "cell_type": "markdown",
   "metadata": {},
   "source": [
    "# LEVEL 3"
   ]
  },
  {
   "cell_type": "code",
   "execution_count": null,
   "metadata": {},
   "outputs": [],
   "source": [
    "# 1 Write a function called is_prime, which checks if a number is prime.\n",
    "def is_prime(num):\n",
    "    if num > 1:\n",
    "        for i in range(2,num):\n",
    "            if (num % i) == 0:\n",
    "                print(num,\"is not a prime number\")\n",
    "                break\n",
    "        else:\n",
    "            print(num,\"is a prime number\")\n",
    "       \n",
    "is_prime(8)\n",
    "\n",
    "# 2 Write a functions which checks if all items are unique in the list.\n",
    "\n",
    "def is_unique(lst):\n",
    "    count = [lst.count(a) for a in lst]\n",
    "    for i in count:\n",
    "        if i > 1:\n",
    "            print('It is not Unique')\n",
    "            break\n",
    "        else:\n",
    "            print('It is unique')\n",
    "            break\n",
    "\n",
    "is_unique([2,1,3,4,2])\n",
    "\n",
    "# 3 Write a function which checks if all the items of the list are of the same data type.\n",
    "def data_type(lst):\n",
    "    first_item = type(lst[0])\n",
    "    for num in range(len(lst)):\n",
    "        if type(lst[num]) == first_item:\n",
    "            print('They all have the same data type')\n",
    "        else:\n",
    "            print('They are not of the same data type')"
   ]
  }
 ],
 "metadata": {
  "kernelspec": {
   "display_name": "base",
   "language": "python",
   "name": "python3"
  },
  "language_info": {
   "codemirror_mode": {
    "name": "ipython",
    "version": 3
   },
   "file_extension": ".py",
   "mimetype": "text/x-python",
   "name": "python",
   "nbconvert_exporter": "python",
   "pygments_lexer": "ipython3",
   "version": "3.8.8"
  },
  "orig_nbformat": 4,
  "vscode": {
   "interpreter": {
    "hash": "cd872e1ce7dedf97223fa715644db405105793341dd540346fd90ca54e89fb22"
   }
  }
 },
 "nbformat": 4,
 "nbformat_minor": 2
}
