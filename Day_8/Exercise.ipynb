{
 "cells": [
  {
   "attachments": {},
   "cell_type": "markdown",
   "metadata": {},
   "source": [
    "## Q1"
   ]
  },
  {
   "cell_type": "code",
   "execution_count": null,
   "metadata": {},
   "outputs": [],
   "source": [
    "empty_dict = {}"
   ]
  },
  {
   "attachments": {},
   "cell_type": "markdown",
   "metadata": {},
   "source": [
    "## Q2"
   ]
  },
  {
   "cell_type": "code",
   "execution_count": 1,
   "metadata": {},
   "outputs": [
    {
     "name": "stdout",
     "output_type": "stream",
     "text": [
      "{'name': 'Junior', 'color': 'red', 'breed': 'Latin', 'legs': 4, 'age': 6}\n"
     ]
    }
   ],
   "source": [
    "dog = {'name':'Junior',\n",
    "        'color':'red',\n",
    "        'breed':'Latin',\n",
    "        'legs':4,\n",
    "        'age':6}\n",
    "print(dog)"
   ]
  },
  {
   "attachments": {},
   "cell_type": "markdown",
   "metadata": {},
   "source": [
    "## Q3"
   ]
  },
  {
   "cell_type": "code",
   "execution_count": 3,
   "metadata": {},
   "outputs": [
    {
     "name": "stdout",
     "output_type": "stream",
     "text": [
      "{'first_name': 'Munzali', 'last_name': 'Alhassan', 'age': 26, 'marital_status': 'Single', 'skills': ['Python', 'Pandas', 'Numpy'], 'country': 'Nigeria', 'city': 'Gumel', 'Address': 'Gusau Qtrs Gumel'}\n"
     ]
    }
   ],
   "source": [
    "#, last_name, gender, age, marital status, skills, country, city and address\n",
    "student = {'first_name':'Munzali',\n",
    "            'last_name':'Alhassan',\n",
    "            'age':26,\n",
    "            'marital_status':'Single',\n",
    "            'skills':['Python','Pandas','Numpy'],\n",
    "            'country':'Nigeria',\n",
    "            'city':'Gumel',\n",
    "            'Address':'Gusau Qtrs Gumel'}\n",
    "print(student)"
   ]
  },
  {
   "attachments": {},
   "cell_type": "markdown",
   "metadata": {},
   "source": [
    "## Q4"
   ]
  },
  {
   "cell_type": "code",
   "execution_count": null,
   "metadata": {},
   "outputs": [],
   "source": [
    "print(len(student))"
   ]
  },
  {
   "attachments": {},
   "cell_type": "markdown",
   "metadata": {},
   "source": [
    "## Q5"
   ]
  },
  {
   "cell_type": "code",
   "execution_count": 4,
   "metadata": {},
   "outputs": [
    {
     "name": "stdout",
     "output_type": "stream",
     "text": [
      "['Python', 'Pandas', 'Numpy']\n"
     ]
    }
   ],
   "source": [
    "print(student['skills'])"
   ]
  },
  {
   "attachments": {},
   "cell_type": "markdown",
   "metadata": {},
   "source": [
    "## Q6"
   ]
  },
  {
   "cell_type": "code",
   "execution_count": 5,
   "metadata": {},
   "outputs": [],
   "source": [
    "student['skills'].append('R')"
   ]
  },
  {
   "attachments": {},
   "cell_type": "markdown",
   "metadata": {},
   "source": [
    "## Q7"
   ]
  },
  {
   "cell_type": "code",
   "execution_count": 7,
   "metadata": {},
   "outputs": [
    {
     "name": "stdout",
     "output_type": "stream",
     "text": [
      "dict_keys(['first_name', 'last_name', 'age', 'marital_status', 'skills', 'country', 'city', 'Address'])\n"
     ]
    }
   ],
   "source": [
    "keys = student.keys()\n",
    "print(keys)"
   ]
  },
  {
   "attachments": {},
   "cell_type": "markdown",
   "metadata": {},
   "source": [
    "## Q8"
   ]
  },
  {
   "cell_type": "code",
   "execution_count": 8,
   "metadata": {},
   "outputs": [
    {
     "name": "stdout",
     "output_type": "stream",
     "text": [
      "dict_values(['Munzali', 'Alhassan', 26, 'Single', ['Python', 'Pandas', 'Numpy', 'R'], 'Nigeria', 'Gumel', 'Gusau Qtrs Gumel'])\n"
     ]
    }
   ],
   "source": [
    "values = student.values()\n",
    "print(values)"
   ]
  },
  {
   "attachments": {},
   "cell_type": "markdown",
   "metadata": {},
   "source": [
    "## Q9"
   ]
  },
  {
   "cell_type": "code",
   "execution_count": 10,
   "metadata": {},
   "outputs": [
    {
     "data": {
      "text/plain": [
       "dict_items([('first_name', 'Munzali'), ('last_name', 'Alhassan'), ('age', 26), ('marital_status', 'Single'), ('skills', ['Python', 'Pandas', 'Numpy', 'R']), ('country', 'Nigeria'), ('city', 'Gumel'), ('Address', 'Gusau Qtrs Gumel')])"
      ]
     },
     "execution_count": 10,
     "metadata": {},
     "output_type": "execute_result"
    }
   ],
   "source": [
    "student.items()"
   ]
  },
  {
   "attachments": {},
   "cell_type": "markdown",
   "metadata": {},
   "source": [
    "## Q10"
   ]
  },
  {
   "cell_type": "code",
   "execution_count": 11,
   "metadata": {},
   "outputs": [],
   "source": [
    "del student['Address']"
   ]
  },
  {
   "attachments": {},
   "cell_type": "markdown",
   "metadata": {},
   "source": [
    "## Q11"
   ]
  },
  {
   "cell_type": "code",
   "execution_count": null,
   "metadata": {},
   "outputs": [],
   "source": [
    "del student"
   ]
  }
 ],
 "metadata": {
  "kernelspec": {
   "display_name": "base",
   "language": "python",
   "name": "python3"
  },
  "language_info": {
   "codemirror_mode": {
    "name": "ipython",
    "version": 3
   },
   "file_extension": ".py",
   "mimetype": "text/x-python",
   "name": "python",
   "nbconvert_exporter": "python",
   "pygments_lexer": "ipython3",
   "version": "3.8.8"
  },
  "orig_nbformat": 4,
  "vscode": {
   "interpreter": {
    "hash": "cd872e1ce7dedf97223fa715644db405105793341dd540346fd90ca54e89fb22"
   }
  }
 },
 "nbformat": 4,
 "nbformat_minor": 2
}
