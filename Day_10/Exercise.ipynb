{
 "cells": [
  {
   "cell_type": "code",
   "execution_count": 1,
   "metadata": {},
   "outputs": [
    {
     "name": "stdout",
     "output_type": "stream",
     "text": [
      "0\n",
      "1\n",
      "2\n",
      "3\n",
      "4\n"
     ]
    }
   ],
   "source": [
    "count = 0\n",
    "while count < 5:\n",
    "    print(count)\n",
    "    count = count + 1\n"
   ]
  },
  {
   "cell_type": "code",
   "execution_count": 3,
   "metadata": {},
   "outputs": [
    {
     "name": "stdout",
     "output_type": "stream",
     "text": [
      "6\n"
     ]
    }
   ],
   "source": [
    "count = 6\n",
    "while count < 5:\n",
    "    print(count)\n",
    "    count = count + 1\n",
    "else:\n",
    "    print(count)"
   ]
  },
  {
   "cell_type": "code",
   "execution_count": 4,
   "metadata": {},
   "outputs": [
    {
     "name": "stdout",
     "output_type": "stream",
     "text": [
      "first_name\n",
      "last_name\n",
      "age\n",
      "country\n",
      "is_marred\n",
      "skills\n",
      "address\n",
      "first_name Asabeneh\n",
      "last_name Yetayeh\n",
      "age 250\n",
      "country Finland\n",
      "is_marred True\n",
      "skills ['JavaScript', 'React', 'Node', 'MongoDB', 'Python']\n",
      "address {'street': 'Space street', 'zipcode': '02210'}\n"
     ]
    }
   ],
   "source": [
    "person = {\n",
    "    'first_name':'Asabeneh',\n",
    "    'last_name':'Yetayeh',\n",
    "    'age':250,\n",
    "    'country':'Finland',\n",
    "    'is_marred':True,\n",
    "    'skills':['JavaScript', 'React', 'Node', 'MongoDB', 'Python'],\n",
    "    'address':{\n",
    "        'street':'Space street',\n",
    "        'zipcode':'02210'\n",
    "    }\n",
    "}\n",
    "for key in person:\n",
    "    print(key)\n",
    "\n",
    "for key, value in person.items():\n",
    "    print(key, value) # this way we get both keys and values printed out"
   ]
  },
  {
   "cell_type": "code",
   "execution_count": null,
   "metadata": {},
   "outputs": [],
   "source": []
  },
  {
   "attachments": {},
   "cell_type": "markdown",
   "metadata": {},
   "source": [
    "\n",
    "Iterate 10 to 0 using for loop, do the same using while loop.\n",
    "\n"
   ]
  },
  {
   "attachments": {},
   "cell_type": "markdown",
   "metadata": {},
   "source": [
    "## Q1\n",
    "#### Iterate 0 to 10 using for loop, do the same using while loop.\n"
   ]
  },
  {
   "cell_type": "code",
   "execution_count": 3,
   "metadata": {},
   "outputs": [
    {
     "name": "stdout",
     "output_type": "stream",
     "text": [
      "0\n",
      "1\n",
      "2\n",
      "3\n",
      "4\n",
      "5\n",
      "6\n",
      "7\n",
      "8\n",
      "9\n",
      "10\n",
      "0\n",
      "1\n",
      "2\n",
      "3\n",
      "4\n",
      "5\n",
      "6\n",
      "7\n",
      "8\n",
      "9\n",
      "10\n"
     ]
    }
   ],
   "source": [
    "\n",
    "for count in range(11): # Using for loop\n",
    "    print(count)\n",
    "\n",
    "count = 0    #Using while loop\n",
    "while count <=10:\n",
    "    print(count)\n",
    "    count += 1\n",
    "\n"
   ]
  },
  {
   "attachments": {},
   "cell_type": "markdown",
   "metadata": {},
   "source": [
    "## Q2\n",
    "#### Iterate 10 to 0 using for loop, do the same using while loop."
   ]
  },
  {
   "cell_type": "code",
   "execution_count": 19,
   "metadata": {},
   "outputs": [
    {
     "name": "stdout",
     "output_type": "stream",
     "text": [
      "10\n",
      "9\n",
      "8\n",
      "7\n",
      "6\n",
      "5\n",
      "4\n",
      "3\n",
      "2\n",
      "1\n",
      "0\n"
     ]
    }
   ],
   "source": [
    "for count in range(10,0): #Using for loop\n",
    "    print(count)\n",
    "\n",
    "\n",
    "count = 10   #Using while loop\n",
    "while count >= 0:\n",
    "    print(count)\n",
    "    count = count - 1\n",
    "\n",
    " "
   ]
  },
  {
   "attachments": {},
   "cell_type": "markdown",
   "metadata": {},
   "source": [
    "## Q3\n",
    "### Write a loop that makes seven calls to print(), so we get on the output the following triangle:\n",
    "      #\n",
    "      ##\n",
    "      ###\n",
    "      ####\n",
    "      #####\n",
    "      ######\n",
    "      #######"
   ]
  },
  {
   "cell_type": "code",
   "execution_count": 20,
   "metadata": {},
   "outputs": [
    {
     "name": "stdout",
     "output_type": "stream",
     "text": [
      "# \n",
      "# # \n",
      "# # # \n",
      "# # # # \n",
      "# # # # # \n",
      "# # # # # # \n",
      "# # # # # # # \n"
     ]
    }
   ],
   "source": [
    "# outer loop to handle number of rows\n",
    "# n in this case\n",
    "for i in range(0, 7):\n",
    "     \n",
    "        # inner loop to handle number of columns\n",
    "        # values changing acc. to outer loop\n",
    "        for j in range(0, i+1):\n",
    "         \n",
    "            # printing stars\n",
    "            print(\"# \",end=\"\")\n",
    "      \n",
    "        # ending line after each row\n",
    "        print(\"\\r\")"
   ]
  },
  {
   "attachments": {},
   "cell_type": "markdown",
   "metadata": {},
   "source": [
    "## Q4\n",
    "#### Use nested loops to create the following:\n",
    "        # # # # # # # #\n",
    "        # # # # # # # #\n",
    "        # # # # # # # #\n",
    "        # # # # # # # #\n",
    "        # # # # # # # #\n",
    "        # # # # # # # #\n",
    "        # # # # # # # #\n",
    "        # # # # # # # #"
   ]
  },
  {
   "cell_type": "code",
   "execution_count": 24,
   "metadata": {},
   "outputs": [
    {
     "name": "stdout",
     "output_type": "stream",
     "text": [
      "#  #  #  #  #  #  #  \n",
      "#  #  #  #  #  #  #  \n",
      "#  #  #  #  #  #  #  \n",
      "#  #  #  #  #  #  #  \n",
      "#  #  #  #  #  #  #  \n",
      "#  #  #  #  #  #  #  \n",
      "#  #  #  #  #  #  #  \n"
     ]
    }
   ],
   "source": [
    "for i in range(0, 7):\n",
    "    for j in range(7):\n",
    "        print('# ', end=\" \")\n",
    "    print(\"\\r\")\n",
    "    "
   ]
  },
  {
   "attachments": {},
   "cell_type": "markdown",
   "metadata": {},
   "source": [
    "## Q5\n",
    "#### print the following pattern\n",
    "        0 x 0 = 0\n",
    "        1 x 1 = 1\n",
    "        2 x 2 = 4\n",
    "        3 x 3 = 9\n",
    "        4 x 4 = 16\n",
    "        5 x 5 = 25\n",
    "        6 x 6 = 36\n",
    "        7 x 7 = 49\n",
    "        8 x 8 = 64\n",
    "        9 x 9 = 81\n",
    "        10 x 10 = 100"
   ]
  },
  {
   "cell_type": "code",
   "execution_count": 27,
   "metadata": {},
   "outputs": [
    {
     "name": "stdout",
     "output_type": "stream",
     "text": [
      "0 * 0 = 0\n",
      "1 * 1 = 1\n",
      "2 * 2 = 4\n",
      "3 * 3 = 9\n",
      "4 * 4 = 16\n",
      "5 * 5 = 25\n",
      "6 * 6 = 36\n",
      "7 * 7 = 49\n",
      "8 * 8 = 64\n",
      "9 * 9 = 81\n",
      "10 * 10 = 100\n"
     ]
    }
   ],
   "source": [
    "for i in range(0,11):\n",
    "    print(\"{} * {} = {}\".format(i,i,(i*i)))\n"
   ]
  },
  {
   "attachments": {},
   "cell_type": "markdown",
   "metadata": {},
   "source": [
    "## Q6\n",
    "##### Iterate through the list, ['Python', 'Numpy','Pandas','Django', 'Flask'] using a for loop and print out the items."
   ]
  },
  {
   "cell_type": "code",
   "execution_count": 28,
   "metadata": {},
   "outputs": [
    {
     "name": "stdout",
     "output_type": "stream",
     "text": [
      "Python\n",
      "Numpy\n",
      "Pandas\n",
      "Django\n",
      "Flask\n"
     ]
    }
   ],
   "source": [
    "for i in ['Python', 'Numpy','Pandas','Django', 'Flask']:\n",
    "    print(i)"
   ]
  },
  {
   "attachments": {},
   "cell_type": "markdown",
   "metadata": {},
   "source": [
    "## Q7\n",
    "##### Use for loop to iterate from 0 to 100 and print only even numbers"
   ]
  },
  {
   "cell_type": "code",
   "execution_count": 29,
   "metadata": {},
   "outputs": [
    {
     "name": "stdout",
     "output_type": "stream",
     "text": [
      "0\n",
      "2\n",
      "4\n",
      "6\n",
      "8\n",
      "10\n",
      "12\n",
      "14\n",
      "16\n",
      "18\n",
      "20\n",
      "22\n",
      "24\n",
      "26\n",
      "28\n",
      "30\n",
      "32\n",
      "34\n",
      "36\n",
      "38\n",
      "40\n",
      "42\n",
      "44\n",
      "46\n",
      "48\n",
      "50\n",
      "52\n",
      "54\n",
      "56\n",
      "58\n",
      "60\n",
      "62\n",
      "64\n",
      "66\n",
      "68\n",
      "70\n",
      "72\n",
      "74\n",
      "76\n",
      "78\n",
      "80\n",
      "82\n",
      "84\n",
      "86\n",
      "88\n",
      "90\n",
      "92\n",
      "94\n",
      "96\n",
      "98\n"
     ]
    }
   ],
   "source": [
    "for count in range(0,100):\n",
    "    if count % 2 == 0:\n",
    "        print(count)"
   ]
  },
  {
   "attachments": {},
   "cell_type": "markdown",
   "metadata": {},
   "source": [
    "## Q8\n",
    "##### Use for loop to iterate from 0 to 100 and print only odd numbers"
   ]
  },
  {
   "cell_type": "code",
   "execution_count": 30,
   "metadata": {},
   "outputs": [
    {
     "name": "stdout",
     "output_type": "stream",
     "text": [
      "1\n",
      "3\n",
      "5\n",
      "7\n",
      "9\n",
      "11\n",
      "13\n",
      "15\n",
      "17\n",
      "19\n",
      "21\n",
      "23\n",
      "25\n",
      "27\n",
      "29\n",
      "31\n",
      "33\n",
      "35\n",
      "37\n",
      "39\n",
      "41\n",
      "43\n",
      "45\n",
      "47\n",
      "49\n",
      "51\n",
      "53\n",
      "55\n",
      "57\n",
      "59\n",
      "61\n",
      "63\n",
      "65\n",
      "67\n",
      "69\n",
      "71\n",
      "73\n",
      "75\n",
      "77\n",
      "79\n",
      "81\n",
      "83\n",
      "85\n",
      "87\n",
      "89\n",
      "91\n",
      "93\n",
      "95\n",
      "97\n",
      "99\n"
     ]
    }
   ],
   "source": [
    "for count in range(0,100):\n",
    "    if count % 2 != 0:\n",
    "        print(count)"
   ]
  },
  {
   "attachments": {},
   "cell_type": "markdown",
   "metadata": {},
   "source": [
    "# LEVEL 2"
   ]
  },
  {
   "attachments": {},
   "cell_type": "markdown",
   "metadata": {},
   "source": [
    "## Q1\n",
    "##### Use for loop to iterate from 0 to 100 and print the sum of all numbers."
   ]
  },
  {
   "cell_type": "code",
   "execution_count": null,
   "metadata": {},
   "outputs": [],
   "source": [
    "total = 0\n",
    "for count in range(0,100):\n",
    "    total += count\n",
    "    print('The sum of all numbers is:', total)"
   ]
  },
  {
   "attachments": {},
   "cell_type": "markdown",
   "metadata": {},
   "source": [
    "## Q2\n",
    "#### Use for loop to iterate from 0 to 100 and print the sum of all evens and the sum of all odds."
   ]
  },
  {
   "cell_type": "code",
   "execution_count": null,
   "metadata": {},
   "outputs": [],
   "source": [
    "for count in range(0,100):\n",
    "    if count % 2 == 0:\n",
    "        even_nums = count\n",
    "    else:\n",
    "        odd_nums = count\n",
    "    \n",
    "    print(\"The sum of all evens is sum({}). And the sum of all odds is sum({})\".format(even_nums,odd_nums))\n"
   ]
  },
  {
   "attachments": {},
   "cell_type": "markdown",
   "metadata": {},
   "source": [
    "# LEVEL 3"
   ]
  },
  {
   "attachments": {},
   "cell_type": "markdown",
   "metadata": {},
   "source": [
    "## Q1\n",
    "##### Go to the data folder and use the countries.py file. Loop through the countries and extract all the countries containing the word land."
   ]
  },
  {
   "cell_type": "code",
   "execution_count": null,
   "metadata": {},
   "outputs": [],
   "source": [
    "for count in countries:\n",
    "    print(count)"
   ]
  },
  {
   "attachments": {},
   "cell_type": "markdown",
   "metadata": {},
   "source": [
    "## Q2\n",
    "##### This is a fruit list, ['banana', 'orange', 'mango', 'lemon'] reverse the order using loop."
   ]
  },
  {
   "cell_type": "code",
   "execution_count": 59,
   "metadata": {},
   "outputs": [
    {
     "name": "stdout",
     "output_type": "stream",
     "text": [
      "lemon\n",
      "mango\n",
      "orange\n",
      "banana\n"
     ]
    }
   ],
   "source": [
    "fruits = ['banana', 'orange', 'mango', 'lemon']\n",
    "for reversed in fruits[::-1]:\n",
    "    print(reversed)\n"
   ]
  },
  {
   "attachments": {},
   "cell_type": "markdown",
   "metadata": {},
   "source": [
    "## Q3\n",
    "#### Go to the data folder and use the countries_data.py file.\n",
    "    What are the total number of languages in the data\n",
    "    Find the ten most spoken languages from the data\n",
    "    Find the 10 most populated countries in the world"
   ]
  },
  {
   "cell_type": "code",
   "execution_count": null,
   "metadata": {},
   "outputs": [],
   "source": [
    "lists = []\n",
    "\n",
    "for data in countries_data:\n",
    "\tfor lang in data['languages']:\n",
    "\t\tlists.append(lang)\n",
    "lst_set = set(lst)\n",
    "print('The total number of language in the data is: ', len(lst_set), 'languages')\n",
    "\n",
    "\n",
    "sortings = sorted(lists,key=lists.count,reverse=True)\n",
    "print(sortings)\n",
    "print(list(set([sortings.count(i) for i in sortings]))[-10:])\n",
    "\n",
    "\n",
    "lst1=[]\n",
    "for data in countries_data:\n",
    "    population = data[\"population\"]\n",
    "    country = data[\"name\"]\n",
    "    if population>125000000:\n",
    "        lst1.append(country)\n",
    "        \n",
    "print(\"The 10 most populated countries in the world are: \\n\", lst1)"
   ]
  }
 ],
 "metadata": {
  "kernelspec": {
   "display_name": "base",
   "language": "python",
   "name": "python3"
  },
  "language_info": {
   "codemirror_mode": {
    "name": "ipython",
    "version": 3
   },
   "file_extension": ".py",
   "mimetype": "text/x-python",
   "name": "python",
   "nbconvert_exporter": "python",
   "pygments_lexer": "ipython3",
   "version": "3.8.8"
  },
  "orig_nbformat": 4,
  "vscode": {
   "interpreter": {
    "hash": "cd872e1ce7dedf97223fa715644db405105793341dd540346fd90ca54e89fb22"
   }
  }
 },
 "nbformat": 4,
 "nbformat_minor": 2
}
